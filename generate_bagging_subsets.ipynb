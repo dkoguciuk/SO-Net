{
 "cells": [
  {
   "cell_type": "code",
   "execution_count": 3,
   "metadata": {},
   "outputs": [],
   "source": [
    "import os\n",
    "import random"
   ]
  },
  {
   "cell_type": "code",
   "execution_count": 4,
   "metadata": {},
   "outputs": [],
   "source": [
    "root_path = '/workspace/ModelNet/modelnet40-normal_numpy/'\n",
    "full_train_file_name = 'modelnet40_train.txt'\n",
    "\n",
    "with open(os.path.join(root_path, full_train_file_name), 'r') as f:\n",
    "    items = [str.rstrip() for str in f.readlines()]"
   ]
  },
  {
   "cell_type": "code",
   "execution_count": 1,
   "metadata": {},
   "outputs": [],
   "source": [
    "# total_sz = len(items)\n",
    "# for sz_factor in range(1, 10):\n",
    "#     sz = int(sz_factor * total_sz / 10)\n",
    "#     for i in range(10):\n",
    "#         random.shuffle(items)\n",
    "#         items_sunset = sorted(items[:sz])\n",
    "#         with open(os.path.join(root_path, 'modelnet40_train_sz0' + str(sz_factor) + '_v' + str(i) + '.txt'), 'w') as f:\n",
    "#             for it in items_sunset:\n",
    "#                 f.write(it + '\\n')"
   ]
  },
  {
   "cell_type": "code",
   "execution_count": 8,
   "metadata": {},
   "outputs": [],
   "source": [
    "sz = len(items)\n",
    "for i in range(10):\n",
    "    bagging_items = []\n",
    "    for j in range(sz):\n",
    "        elem = random.choice(items)\n",
    "        bagging_items.append(elem)\n",
    "    bagging_items = sorted(bagging_items)\n",
    "    with open(os.path.join(root_path, 'modelnet40_train_bagging_v' + str(i) + '.txt'), 'w') as f:\n",
    "        for it in bagging_items:\n",
    "            f.write(it + '\\n')"
   ]
  },
  {
   "cell_type": "code",
   "execution_count": null,
   "metadata": {},
   "outputs": [],
   "source": []
  }
 ],
 "metadata": {
  "kernelspec": {
   "display_name": "Python 3",
   "language": "python",
   "name": "python3"
  }
 },
 "nbformat": 4,
 "nbformat_minor": 2
}
