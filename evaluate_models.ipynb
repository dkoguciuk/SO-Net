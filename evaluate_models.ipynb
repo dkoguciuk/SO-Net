{
 "cells": [
  {
   "cell_type": "code",
   "execution_count": 8,
   "metadata": {},
   "outputs": [
    {
     "name": "stdout",
     "output_type": "stream",
     "text": [
      "------------ Options -------------\n",
      "activation: relu\n",
      "batch_size: 8\n",
      "bn_momentum: 0.1\n",
      "bn_momentum_decay: 0.6\n",
      "bn_momentum_decay_step: None\n",
      "checkpoints_dir: /workspace/ModelNet/SO-Net/SO-Net/checkpoints/model_1/\n",
      "classes: 40\n",
      "dataroot: /workspace/ModelNet/modelnet40-normal_numpy/\n",
      "dataset: modelnet\n",
      "device: cuda:0\n",
      "display_id: 200\n",
      "display_winsize: 256\n",
      "dropout: 0.7\n",
      "feature_num: 1024\n",
      "gpu_id: 0\n",
      "input_pc_num: 5000\n",
      "k: 3\n",
      "lr: 0.001\n",
      "nThreads: 8\n",
      "name: train\n",
      "node_num: 64\n",
      "normalization: batch\n",
      "pretrain: None\n",
      "pretrain_lr_ratio: 1\n",
      "random_pc_dropout_lower_limit: 1\n",
      "rot_horizontal: False\n",
      "rot_perturbation: False\n",
      "som_k: 9\n",
      "som_k_type: avg\n",
      "surface_normal: True\n",
      "translation_perturbation: False\n",
      "-------------- End ----------------\n"
     ]
    }
   ],
   "source": [
    "import os\n",
    "import sys\n",
    "\n",
    "import time\n",
    "import copy\n",
    "import numpy as np\n",
    "import math\n",
    "\n",
    "sys.argv = ['options', '--classes', '40', '--dataroot', '/workspace/ModelNet/modelnet40-normal_numpy/',\n",
    "           '--checkpoints_dir', '/workspace/ModelNet/SO-Net/SO-Net/checkpoints/model_1/']\n",
    "from modelnet.options import Options\n",
    "opt = Options().parse()  # set CUDA_VISIBLE_DEVICES before import torch\n",
    "\n",
    "import torch\n",
    "import torchvision\n",
    "import torch.nn as nn\n",
    "import torch.nn.functional as F\n",
    "import torch.optim as optim\n",
    "import random\n",
    "import numpy as np\n",
    "\n",
    "from models.classifier import Model\n",
    "from data.modelnet_shrec_loader import ModelNet_Shrec_Loader\n",
    "from util.visualizer import Visualizer"
   ]
  },
  {
   "cell_type": "code",
   "execution_count": 9,
   "metadata": {},
   "outputs": [],
   "source": [
    "testset = ModelNet_Shrec_Loader(opt.dataroot, 'test', opt)\n",
    "testloader = torch.utils.data.DataLoader(testset, batch_size=opt.batch_size, shuffle=False, num_workers=opt.nThreads)\n",
    "\n",
    "# create model, optionally load pre-trained model\n",
    "model = Model(opt)"
   ]
  },
  {
   "cell_type": "code",
   "execution_count": 17,
   "metadata": {},
   "outputs": [],
   "source": [
    "checkpoints = [x for x in os.listdir(opt.checkpoints_dir) if os.path.splitext(x)[-1] == '.pth']\n",
    "checkpoints = sorted(checkpoints, key=lambda x: int(x.split('_')[0]))[-2:]\n",
    "for item in checkpoints:\n",
    "    if item.split('_')[-1] == 'classifier.pth':\n",
    "        ckp_classifier = item\n",
    "    if item.split('_')[-1] == 'encoder.pth':\n",
    "        ckp_encoder = item\n",
    "classifier_ckp_path = os.path.join(opt.checkpoints_dir, ckp_classifier)\n",
    "encoder_ckp_path = os.path.join(opt.checkpoints_dir, ckp_encoder)\n",
    "model.encoder.load_state_dict(torch.load(encoder_ckp_path))\n",
    "model.classifier.load_state_dict(torch.load(classifier_ckp_path))"
   ]
  },
  {
   "cell_type": "code",
   "execution_count": 53,
   "metadata": {},
   "outputs": [],
   "source": [
    "model.test_loss.data.zero_()\n",
    "model.test_accuracy.data.zero_()\n",
    "model_probabilities = []\n",
    "gt_labels = []\n",
    "for i, data in enumerate(testloader):\n",
    "    input_pc, input_sn, input_label, input_node, input_node_knn_I = data\n",
    "    model.set_input(input_pc, input_sn, input_label, input_node, input_node_knn_I)\n",
    "    model.test_model()\n",
    "    model_probabilities.append(model.score.data)\n",
    "    gt_labels.append(model.input_label.cpu())\n",
    "\n",
    "model_probabilities = torch.cat(model_probabilities, 0)\n",
    "gt_labels = torch.cat(gt_labels, 0)"
   ]
  },
  {
   "cell_type": "code",
   "execution_count": 65,
   "metadata": {},
   "outputs": [
    {
     "name": "stdout",
     "output_type": "stream",
     "text": [
      "Test accuracy = 0.9262560606002808\n"
     ]
    }
   ],
   "source": [
    "predictions = torch.argmax(model_probabilities, 1).cpu()\n",
    "correct_mask = torch.eq(predictions, gt_labels).float()\n",
    "test_accuracy = torch.mean(correct_mask).item()\n",
    "print('Test accuracy =', test_accuracy)"
   ]
  },
  {
   "cell_type": "code",
   "execution_count": null,
   "metadata": {},
   "outputs": [],
   "source": []
  }
 ],
 "metadata": {
  "kernelspec": {
   "display_name": "Python 3",
   "language": "python",
   "name": "python3"
  },
  "language_info": {
   "codemirror_mode": {
    "name": "ipython",
    "version": 3
   },
   "file_extension": ".py",
   "mimetype": "text/x-python",
   "name": "python",
   "nbconvert_exporter": "python",
   "pygments_lexer": "ipython3",
   "version": "3.6.5"
  }
 },
 "nbformat": 4,
 "nbformat_minor": 2
}
